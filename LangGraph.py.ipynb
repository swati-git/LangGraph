{
 "cells": [
  {
   "cell_type": "code",
   "execution_count": null,
   "id": "0055961b",
   "metadata": {},
   "outputs": [],
   "source": [
    "pip install langgraph==0.3.5"
   ]
  },
  {
   "cell_type": "markdown",
   "id": "8dd03bc5",
   "metadata": {},
   "source": [
    "https://langchain-ai.github.io/langgraphjs/reference/classes/langgraph.StateGraph.html"
   ]
  },
  {
   "cell_type": "code",
   "execution_count": null,
   "id": "5a45fcb4",
   "metadata": {},
   "outputs": [],
   "source": [
    "from langgraph.graph import StateGraph"
   ]
  },
  {
   "cell_type": "code",
   "execution_count": null,
   "id": "5b0bb584",
   "metadata": {},
   "outputs": [],
   "source": [
    "def merge_dicts(dict1, dict2):\n",
    "    return {**dict1, **dict2}"
   ]
  },
  {
   "cell_type": "code",
   "execution_count": null,
   "id": "6034cca8",
   "metadata": {},
   "outputs": [],
   "source": [
    "from typing_extensions import TypedDict\n",
    "import operator\n",
    "from typing import Annotated\n",
    "\n",
    "class State(TypedDict):\n",
    "    text: str\n",
    "    answer: Annotated[dict, merge_dicts]\n",
    "    payload: dict[str, list]\n",
    "    tag: str "
   ]
  },
  {
   "cell_type": "code",
   "execution_count": null,
   "id": "aea76e4b",
   "metadata": {},
   "outputs": [],
   "source": [
    "graph_builder = StateGraph(State)\n"
   ]
  },
  {
   "cell_type": "code",
   "execution_count": null,
   "id": "a169cd7b",
   "metadata": {},
   "outputs": [],
   "source": [
    "def extract_content(state: State):\n",
    "    return {\"text\": state[\"payload\"][0][\"customer_remark\"]}\n",
    "\n",
    "def route_question_or_compliment(state: State):\n",
    "    if \"?\" in state[\"text\"]:\n",
    "        return \"question\"\n",
    "    else:\n",
    "        return \"compliment\"\n",
    "\n",
    "\n",
    "def run_compliment_code(state: State):\n",
    "    return {\"answer\": {\"temp_answer\": \"Thanks for the compliment.\"}}\n",
    "\n",
    "\n",
    "def run_question_code(state: State):\n",
    "    return {\"answer\": {\"temp_answer\": \"Wow nice question.\"}}\n",
    "\n",
    "\n",
    "def beautify(state: State):\n",
    "    return {\n",
    "        \"answer\": {\"final_beautified_answer\": \n",
    "          [\n",
    "           str(state[\"answer\"][\"temp_answer\"])\n",
    "         + f'I will pass it to the {state[\"tag\"]} Department' ## newly added\n",
    "            ]\n",
    "        }\n",
    "    }\n",
    "\n",
    "def tag_query(state: State):\n",
    "    if \"package\" in state[\"text\"]:\n",
    "        return {\"tag\": \"Packaging\"}\n",
    "    elif \"price\" in state[\"text\"]:\n",
    "        return {\"tag\": \"Pricing\"}\n",
    "    else:\n",
    "        return {\"tag\": \"General\"}"
   ]
  },
  {
   "cell_type": "code",
   "execution_count": null,
   "id": "65bec0a8",
   "metadata": {},
   "outputs": [],
   "source": [
    "graph_builder.add_node(\"extract_content\", extract_content)\n",
    "graph_builder.add_node(\"run_question_code\", run_question_code)\n",
    "graph_builder.add_node(\"run_compliment_code\", run_compliment_code)\n",
    "graph_builder.add_node(\"beautify\", beautify)\n",
    "graph_builder.add_node(\"tag_query\", tag_query)"
   ]
  },
  {
   "cell_type": "code",
   "execution_count": null,
   "id": "b22c6196",
   "metadata": {},
   "outputs": [],
   "source": [
    "from langgraph.graph import END, START"
   ]
  },
  {
   "cell_type": "code",
   "execution_count": null,
   "id": "0dd7c6ed",
   "metadata": {},
   "outputs": [],
   "source": [
    "graph_builder.add_edge(START, \"extract_content\")\n",
    "graph_builder.add_conditional_edges(\n",
    "    \"extract_content\",\n",
    "    route_question_or_compliment,\n",
    "    {\n",
    "        \"compliment\": \"run_compliment_code\",\n",
    "        \"question\": \"run_question_code\",\n",
    "    },\n",
    ")\n",
    "graph_builder.add_edge(\"run_question_code\", \"beautify\")\n",
    "graph_builder.add_edge(\"run_compliment_code\", \"beautify\")\n",
    "graph_builder.add_edge(\"beautify\", END)\n",
    "graph_builder.add_edge(\"tag_query\", \"beautify\")\n",
    "\n"
   ]
  },
  {
   "cell_type": "code",
   "execution_count": null,
   "id": "a6d927f1",
   "metadata": {},
   "outputs": [],
   "source": [
    "graph = graph_builder.compile()"
   ]
  },
  {
   "cell_type": "code",
   "execution_count": null,
   "id": "38ffdd57",
   "metadata": {},
   "outputs": [],
   "source": [
    "graph"
   ]
  },
  {
   "cell_type": "code",
   "execution_count": null,
   "id": "96d472a2",
   "metadata": {},
   "outputs": [],
   "source": [
    "graph.invoke({\n",
    "        \"payload\": [\n",
    "            {\n",
    "                \"time_of_comment\": \"20-01-2025\",\n",
    "                \"customer_remark\": \"I hate this.\",\n",
    "                \"social_media_channel\": \"facebook\",\n",
    "                \"number_of_likes\": 100,\n",
    "            }\n",
    "        ]\n",
    "    })"
   ]
  },
  {
   "cell_type": "markdown",
   "id": "e20435cf",
   "metadata": {},
   "source": [
    "If you need the step-by-step response at each node, you can use stream(). This is useful if you want to send updates to the front end to show a progress bar."
   ]
  },
  {
   "cell_type": "code",
   "execution_count": null,
   "id": "67ca595b",
   "metadata": {},
   "outputs": [],
   "source": [
    "for step in graph.stream({\"payload\": [{\"time_of_comment\": \"20-01-2025\",\n",
    "                            \"customer_remark\": \"I hate this.\", \n",
    "                             \"social_media_channel\": \"facebook\",\n",
    "                              \"number_of_likes\":100\n",
    "                            }]\n",
    "}):\n",
    "    print(step)"
   ]
  },
  {
   "cell_type": "code",
   "execution_count": null,
   "id": "5319640e",
   "metadata": {},
   "outputs": [],
   "source": []
  }
 ],
 "metadata": {
  "kernelspec": {
   "display_name": "Python 3 (ipykernel)",
   "language": "python",
   "name": "python3"
  },
  "language_info": {
   "codemirror_mode": {
    "name": "ipython",
    "version": 3
   },
   "file_extension": ".py",
   "mimetype": "text/x-python",
   "name": "python",
   "nbconvert_exporter": "python",
   "pygments_lexer": "ipython3",
   "version": "3.9.7"
  }
 },
 "nbformat": 4,
 "nbformat_minor": 5
}
